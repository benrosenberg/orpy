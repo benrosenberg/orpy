{
 "cells": [
  {
   "cell_type": "markdown",
   "metadata": {},
   "source": [
    "# Juice Problem ILP\n",
    "\n",
    "### Author: [Ben Rosenberg](https://benrosenberg.info)"
   ]
  },
  {
   "cell_type": "markdown",
   "metadata": {},
   "source": [
    "### Imports\n",
    "\n",
    "We begin by importing some relevant libraries. We import `ortools` to formulate and solve the ILP, and we import `time` to time the entire process of supplying the constraints solving the ILP. Lastly, we'll use `pandas` to work with the input data to the ILP."
   ]
  },
  {
   "cell_type": "code",
   "execution_count": 1,
   "metadata": {},
   "outputs": [],
   "source": [
    "from ortools.linear_solver import pywraplp as OR\n",
    "import time\n",
    "import pandas as pd"
   ]
  },
  {
   "cell_type": "markdown",
   "metadata": {},
   "source": [
    "## Problem definition\n",
    "\n",
    "The \"Juice Problem\" is pretty vague. This is basically just a simple example of an ILP with constraints based on nutritional values of various ingredients. We'll define an input here:\n",
    "\n",
    "Ingredient | Calories | Fat | Cholesterol | Sodium | Sugar\n",
    "-|-|-|-|-|-\n",
    "A|110| 4|30|340|15\n",
    "B|150| 8|40|120|35\n",
    "C|250| 2|60|450|40\n",
    "D|270|10|20|240|60\n",
    "E|350|15|70|760|45\n",
    "\n",
    "And let's make some constraints. Our juice can have:\n",
    "\n",
    " - No fewer than 2000 units of calories\n",
    " - No more than 70 units of fat\n",
    " - No more than 750 units of cholesterol\n",
    " - No more than 3000 units of sodium\n",
    " \n",
    "Furthermore, let's say that the ratio of cholesterol to sodium must be at most 1:10.\n",
    " \n",
    "Lastly, let's make the objective to minimize the amount of sugar."
   ]
  },
  {
   "cell_type": "markdown",
   "metadata": {},
   "source": [
    "### Input entry\n",
    "\n",
    "We'll use `pandas` to store our input in a more manageable form (a DataFrame). This allows this notebook to also serve as a minimal example of how one might use the `pandas` library."
   ]
  },
  {
   "cell_type": "code",
   "execution_count": 2,
   "metadata": {},
   "outputs": [],
   "source": [
    "# define ingredients using a dictionary\n",
    "data = {\n",
    "    'Ingredients' : ['A', 'B', 'C', 'D', 'E'],\n",
    "    'Calories' : [110, 150, 250, 270, 350],\n",
    "    'Fat' : [4, 8, 2, 10, 15],\n",
    "    'Cholesterol' : [30, 40, 60, 20, 70],\n",
    "    'Sodium' : [340, 120, 450, 240, 760],\n",
    "    'Sugar' : [15, 35, 40, 60, 45]\n",
    "}\n",
    "\n",
    "df = pd.DataFrame.from_dict(data).set_index('Ingredients')"
   ]
  },
  {
   "cell_type": "code",
   "execution_count": 3,
   "metadata": {
    "scrolled": true
   },
   "outputs": [
    {
     "data": {
      "text/html": [
       "<div>\n",
       "<style scoped>\n",
       "    .dataframe tbody tr th:only-of-type {\n",
       "        vertical-align: middle;\n",
       "    }\n",
       "\n",
       "    .dataframe tbody tr th {\n",
       "        vertical-align: top;\n",
       "    }\n",
       "\n",
       "    .dataframe thead th {\n",
       "        text-align: right;\n",
       "    }\n",
       "</style>\n",
       "<table border=\"1\" class=\"dataframe\">\n",
       "  <thead>\n",
       "    <tr style=\"text-align: right;\">\n",
       "      <th></th>\n",
       "      <th>Calories</th>\n",
       "      <th>Fat</th>\n",
       "      <th>Cholesterol</th>\n",
       "      <th>Sodium</th>\n",
       "      <th>Sugar</th>\n",
       "    </tr>\n",
       "    <tr>\n",
       "      <th>Ingredients</th>\n",
       "      <th></th>\n",
       "      <th></th>\n",
       "      <th></th>\n",
       "      <th></th>\n",
       "      <th></th>\n",
       "    </tr>\n",
       "  </thead>\n",
       "  <tbody>\n",
       "    <tr>\n",
       "      <th>A</th>\n",
       "      <td>110</td>\n",
       "      <td>4</td>\n",
       "      <td>30</td>\n",
       "      <td>340</td>\n",
       "      <td>15</td>\n",
       "    </tr>\n",
       "    <tr>\n",
       "      <th>B</th>\n",
       "      <td>150</td>\n",
       "      <td>8</td>\n",
       "      <td>40</td>\n",
       "      <td>120</td>\n",
       "      <td>35</td>\n",
       "    </tr>\n",
       "    <tr>\n",
       "      <th>C</th>\n",
       "      <td>250</td>\n",
       "      <td>2</td>\n",
       "      <td>60</td>\n",
       "      <td>450</td>\n",
       "      <td>40</td>\n",
       "    </tr>\n",
       "    <tr>\n",
       "      <th>D</th>\n",
       "      <td>270</td>\n",
       "      <td>10</td>\n",
       "      <td>20</td>\n",
       "      <td>240</td>\n",
       "      <td>60</td>\n",
       "    </tr>\n",
       "    <tr>\n",
       "      <th>E</th>\n",
       "      <td>350</td>\n",
       "      <td>15</td>\n",
       "      <td>70</td>\n",
       "      <td>760</td>\n",
       "      <td>45</td>\n",
       "    </tr>\n",
       "  </tbody>\n",
       "</table>\n",
       "</div>"
      ],
      "text/plain": [
       "             Calories  Fat  Cholesterol  Sodium  Sugar\n",
       "Ingredients                                           \n",
       "A                 110    4           30     340     15\n",
       "B                 150    8           40     120     35\n",
       "C                 250    2           60     450     40\n",
       "D                 270   10           20     240     60\n",
       "E                 350   15           70     760     45"
      ]
     },
     "execution_count": 3,
     "metadata": {},
     "output_type": "execute_result"
    }
   ],
   "source": [
    "df.head()"
   ]
  },
  {
   "cell_type": "code",
   "execution_count": 4,
   "metadata": {},
   "outputs": [
    {
     "name": "stdout",
     "output_type": "stream",
     "text": [
      "110\n"
     ]
    }
   ],
   "source": [
    "print(df['Calories']['A'])"
   ]
  },
  {
   "cell_type": "code",
   "execution_count": 14,
   "metadata": {
    "scrolled": true
   },
   "outputs": [
    {
     "name": "stdout",
     "output_type": "stream",
     "text": [
      "\n",
      "[Total time used: 0 minutes, 0 seconds]\n",
      "Objective: 356.44711968958313\n"
     ]
    }
   ],
   "source": [
    "start_time = time.time()\n",
    "\n",
    "m = OR.Solver('Juice Problem', OR.Solver.CBC_MIXED_INTEGER_PROGRAMMING)\n",
    "\n",
    "# add variables for each ingredient\n",
    "I = {}\n",
    "for ingredient in df.index:\n",
    "    I[ingredient] = m.NumVar(0, m.infinity(), ingredient)\n",
    "\n",
    "# add constraint on calories\n",
    "m.Add(sum(I[ingredient] * df['Calories'][ingredient] for ingredient in df.index) >= 2000)\n",
    "\n",
    "# add constraint on fat\n",
    "m.Add(sum(I[ingredient] * df['Fat'][ingredient] for ingredient in df.index) <= 70)\n",
    "\n",
    "# add constraint on cholesterol\n",
    "m.Add(sum(I[ingredient] * df['Cholesterol'][ingredient] for ingredient in df.index) <= 750)\n",
    "\n",
    "# add constraint on sodium\n",
    "m.Add(sum(I[ingredient] * df['Sodium'][ingredient] for ingredient in df.index) <= 3000)\n",
    "\n",
    "# add constraint on cholesterol:sodium ratio\n",
    "m.Add(sum(I[ingredient] * df['Cholesterol'][ingredient] for ingredient in df.index) * 10 \n",
    "   <= sum(I[ingredient] * df['Sodium'][ingredient] for ingredient in df.index))\n",
    "    \n",
    "# set objective\n",
    "m.Minimize(sum(I[ingredient] * df['Sugar'][ingredient] for ingredient in df.index))\n",
    "\n",
    "m.Solve()\n",
    "\n",
    "end_time = time.time()\n",
    "\n",
    "diff = time.gmtime(end_time - start_time)\n",
    "print('\\n[Total time used: {} minutes, {} seconds]'.format(diff.tm_min, diff.tm_sec))\n",
    "\n",
    "print('Objective:', m.Objective().Value())"
   ]
  },
  {
   "cell_type": "markdown",
   "metadata": {},
   "source": [
    "Now that we have our objective, let's print out our solution values:"
   ]
  },
  {
   "cell_type": "code",
   "execution_count": 15,
   "metadata": {
    "scrolled": false
   },
   "outputs": [
    {
     "name": "stdout",
     "output_type": "stream",
     "text": [
      "0.0 units of A\n",
      "0.0 units of B\n",
      "1.1600835737737498 units of C\n",
      "3.5668092727091842 units of D\n",
      "2.1341160083573794 units of E\n"
     ]
    }
   ],
   "source": [
    "for ingredient in df.index:\n",
    "    print('{} units of {}'.format(\n",
    "        I[ingredient].solution_value(), ingredient\n",
    "    ))"
   ]
  },
  {
   "cell_type": "markdown",
   "metadata": {},
   "source": [
    "### Integer Program\n",
    "\n",
    "Say that we have the additional constraint that we can only use integer amounts of each ingredient. This means we need to use integer variables (`m.IntVar(...)`) rather than continuous ones (`m.NumVar(...)`):"
   ]
  },
  {
   "cell_type": "code",
   "execution_count": 12,
   "metadata": {},
   "outputs": [
    {
     "name": "stdout",
     "output_type": "stream",
     "text": [
      "\n",
      "[Total time used: 0 minutes, 0 seconds]\n",
      "Objective: 430.0\n"
     ]
    }
   ],
   "source": [
    "start_time = time.time()\n",
    "\n",
    "m = OR.Solver('Juice Problem', OR.Solver.CBC_MIXED_INTEGER_PROGRAMMING)\n",
    "\n",
    "# add variables for each ingredient\n",
    "I = {}\n",
    "for ingredient in df.index:\n",
    "    I[ingredient] = m.IntVar(0, m.infinity(), ingredient) # <-- change\n",
    "\n",
    "# add constraint on calories\n",
    "m.Add(sum(I[ingredient] * df['Calories'][ingredient] for ingredient in df.index) >= 2000)\n",
    "\n",
    "# add constraint on fat\n",
    "m.Add(sum(I[ingredient] * df['Fat'][ingredient] for ingredient in df.index) <= 70)\n",
    "\n",
    "# add constraint on cholesterol\n",
    "m.Add(sum(I[ingredient] * df['Cholesterol'][ingredient] for ingredient in df.index) <= 750)\n",
    "\n",
    "# add constraint on sodium\n",
    "m.Add(sum(I[ingredient] * df['Sodium'][ingredient] for ingredient in df.index) <= 3000)\n",
    "\n",
    "# add constraint on cholesterol:sodium ratio\n",
    "m.Add(sum(I[ingredient] * df['Cholesterol'][ingredient] for ingredient in df.index) * 10 \n",
    "   <= sum(I[ingredient] * df['Sodium'][ingredient] for ingredient in df.index))\n",
    "    \n",
    "# set objective\n",
    "m.Minimize(sum(I[ingredient] * df['Sugar'][ingredient] for ingredient in df.index))\n",
    "\n",
    "m.Solve()\n",
    "\n",
    "end_time = time.time()\n",
    "\n",
    "diff = time.gmtime(end_time - start_time)\n",
    "print('\\n[Total time used: {} minutes, {} seconds]'.format(diff.tm_min, diff.tm_sec))\n",
    "\n",
    "print('Objective:', m.Objective().Value())"
   ]
  },
  {
   "cell_type": "markdown",
   "metadata": {},
   "source": [
    "And here are the solution values:"
   ]
  },
  {
   "cell_type": "code",
   "execution_count": 16,
   "metadata": {},
   "outputs": [
    {
     "name": "stdout",
     "output_type": "stream",
     "text": [
      "0.0 units of A\n",
      "0.0 units of B\n",
      "1.1600835737737498 units of C\n",
      "3.5668092727091842 units of D\n",
      "2.1341160083573794 units of E\n"
     ]
    }
   ],
   "source": [
    "for ingredient in df.index:\n",
    "    print('{} units of {}'.format(\n",
    "        I[ingredient].solution_value(), ingredient\n",
    "    ))"
   ]
  },
  {
   "cell_type": "markdown",
   "metadata": {},
   "source": [
    "Note how adding the constraint that the amounts of each ingredient must be integer results in a higher (worse) objective value. In general, adding constraints to a problem will result in an equal or worse result than the previously obtained one."
   ]
  }
 ],
 "metadata": {
  "kernelspec": {
   "display_name": "Python 3",
   "language": "python",
   "name": "python3"
  },
  "language_info": {
   "codemirror_mode": {
    "name": "ipython",
    "version": 3
   },
   "file_extension": ".py",
   "mimetype": "text/x-python",
   "name": "python",
   "nbconvert_exporter": "python",
   "pygments_lexer": "ipython3",
   "version": "3.7.3"
  }
 },
 "nbformat": 4,
 "nbformat_minor": 2
}
