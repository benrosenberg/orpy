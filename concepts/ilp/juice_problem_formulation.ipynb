{
 "cells": [
  {
   "cell_type": "markdown",
   "metadata": {},
   "source": [
    "# Juice Problem ILP\n",
    "\n",
    "### Author: [Ben Rosenberg](https://benrosenberg.info)"
   ]
  },
  {
   "cell_type": "markdown",
   "metadata": {},
   "source": [
    "### Imports\n",
    "\n",
    "We begin by importing some relevant libraries. We import `GurobiPy` to formulate and solve the ILP, and we import `time` to time the entire process of supplying the constraints solving the ILP. Lastly, we'll use `pandas` to work with the input data to the ILP."
   ]
  },
  {
   "cell_type": "code",
   "execution_count": 3,
   "metadata": {},
   "outputs": [],
   "source": [
    "import gurobipy as gp\n",
    "from gurobipy import GRB\n",
    "import time\n",
    "import pandas as pd"
   ]
  },
  {
   "cell_type": "markdown",
   "metadata": {},
   "source": [
    "## Problem definition\n",
    "\n",
    "The \"Juice Problem\" is pretty vague. This is basically just a simple example of an ILP with constraints based on nutritional values of various ingredients. We'll define an input here:\n",
    "\n",
    "Ingredient | Calories | Fat | Cholesterol | Sodium | Sugar\n",
    "-|-|-|-|-|-\n",
    "A|110| 4|30|340|15\n",
    "B|150| 8|40|120|35\n",
    "C|250| 2|60|450|40\n",
    "D|270|10|20|240|60\n",
    "E|350|15|70|760|45\n",
    "\n",
    "And let's make some constraints. Our juice can have:\n",
    "\n",
    " - No fewer than 2000 units of calories\n",
    " - No more than 70 units of fat\n",
    " - No more than 750 units of cholesterol\n",
    " - No more than 3000 units of sodium\n",
    " \n",
    "Furthermore, let's say that the ratio of cholesterol to sodium must be at most 1:10.\n",
    " \n",
    "Lastly, let's make the objective to minimize the amount of sugar."
   ]
  },
  {
   "cell_type": "markdown",
   "metadata": {},
   "source": [
    "### Input entry\n",
    "\n",
    "We'll use `pandas` to store our input in a more manageable form (a DataFrame). This allows this notebook to also serve as a minimal example of how one might use the `pandas` library."
   ]
  },
  {
   "cell_type": "code",
   "execution_count": 4,
   "metadata": {},
   "outputs": [],
   "source": [
    "# define ingredients using a dictionary\n",
    "data = {\n",
    "    'Ingredients' : ['A', 'B', 'C', 'D', 'E'],\n",
    "    'Calories' : [110, 150, 250, 270, 350],\n",
    "    'Fat' : [4, 8, 2, 10, 15],\n",
    "    'Cholesterol' : [30, 40, 60, 20, 70],\n",
    "    'Sodium' : [340, 120, 450, 240, 760],\n",
    "    'Sugar' : [15, 35, 40, 60, 45]\n",
    "}\n",
    "\n",
    "df = pd.DataFrame.from_dict(data).set_index('Ingredients')"
   ]
  },
  {
   "cell_type": "code",
   "execution_count": 5,
   "metadata": {
    "scrolled": true
   },
   "outputs": [
    {
     "data": {
      "text/html": [
       "<div>\n",
       "<style scoped>\n",
       "    .dataframe tbody tr th:only-of-type {\n",
       "        vertical-align: middle;\n",
       "    }\n",
       "\n",
       "    .dataframe tbody tr th {\n",
       "        vertical-align: top;\n",
       "    }\n",
       "\n",
       "    .dataframe thead th {\n",
       "        text-align: right;\n",
       "    }\n",
       "</style>\n",
       "<table border=\"1\" class=\"dataframe\">\n",
       "  <thead>\n",
       "    <tr style=\"text-align: right;\">\n",
       "      <th></th>\n",
       "      <th>Calories</th>\n",
       "      <th>Fat</th>\n",
       "      <th>Cholesterol</th>\n",
       "      <th>Sodium</th>\n",
       "      <th>Sugar</th>\n",
       "    </tr>\n",
       "    <tr>\n",
       "      <th>Ingredients</th>\n",
       "      <th></th>\n",
       "      <th></th>\n",
       "      <th></th>\n",
       "      <th></th>\n",
       "      <th></th>\n",
       "    </tr>\n",
       "  </thead>\n",
       "  <tbody>\n",
       "    <tr>\n",
       "      <th>A</th>\n",
       "      <td>110</td>\n",
       "      <td>4</td>\n",
       "      <td>30</td>\n",
       "      <td>340</td>\n",
       "      <td>15</td>\n",
       "    </tr>\n",
       "    <tr>\n",
       "      <th>B</th>\n",
       "      <td>150</td>\n",
       "      <td>8</td>\n",
       "      <td>40</td>\n",
       "      <td>120</td>\n",
       "      <td>35</td>\n",
       "    </tr>\n",
       "    <tr>\n",
       "      <th>C</th>\n",
       "      <td>250</td>\n",
       "      <td>2</td>\n",
       "      <td>60</td>\n",
       "      <td>450</td>\n",
       "      <td>40</td>\n",
       "    </tr>\n",
       "    <tr>\n",
       "      <th>D</th>\n",
       "      <td>270</td>\n",
       "      <td>10</td>\n",
       "      <td>20</td>\n",
       "      <td>240</td>\n",
       "      <td>60</td>\n",
       "    </tr>\n",
       "    <tr>\n",
       "      <th>E</th>\n",
       "      <td>350</td>\n",
       "      <td>15</td>\n",
       "      <td>70</td>\n",
       "      <td>760</td>\n",
       "      <td>45</td>\n",
       "    </tr>\n",
       "  </tbody>\n",
       "</table>\n",
       "</div>"
      ],
      "text/plain": [
       "             Calories  Fat  Cholesterol  Sodium  Sugar\n",
       "Ingredients                                           \n",
       "A                 110    4           30     340     15\n",
       "B                 150    8           40     120     35\n",
       "C                 250    2           60     450     40\n",
       "D                 270   10           20     240     60\n",
       "E                 350   15           70     760     45"
      ]
     },
     "execution_count": 5,
     "metadata": {},
     "output_type": "execute_result"
    }
   ],
   "source": [
    "df.head()"
   ]
  },
  {
   "cell_type": "code",
   "execution_count": 6,
   "metadata": {},
   "outputs": [
    {
     "name": "stdout",
     "output_type": "stream",
     "text": [
      "110\n"
     ]
    }
   ],
   "source": [
    "print(df['Calories']['A'])"
   ]
  },
  {
   "cell_type": "code",
   "execution_count": 7,
   "metadata": {
    "scrolled": false
   },
   "outputs": [
    {
     "name": "stdout",
     "output_type": "stream",
     "text": [
      "Set parameter Username\n",
      "Academic license - for non-commercial use only - expires 2023-10-13\n",
      "Set parameter TuneOutput to value 3\n",
      "Gurobi Optimizer version 9.5.2 build v9.5.2rc0 (win64)\n",
      "Thread count: 4 physical cores, 8 logical processors, using up to 8 threads\n",
      "Optimize a model with 5 rows, 5 columns and 25 nonzeros\n",
      "Model fingerprint: 0xcf744ec6\n",
      "Coefficient statistics:\n",
      "  Matrix range     [2e+00, 8e+02]\n",
      "  Objective range  [2e+01, 6e+01]\n",
      "  Bounds range     [0e+00, 0e+00]\n",
      "  RHS range        [7e+01, 3e+03]\n",
      "Presolve time: 0.01s\n",
      "Presolved: 5 rows, 5 columns, 25 nonzeros\n",
      "\n",
      "Iteration    Objective       Primal Inf.    Dual Inf.      Time\n",
      "       0    0.0000000e+00   1.250000e+02   0.000000e+00      0s\n",
      "       3    3.5644712e+02   0.000000e+00   0.000000e+00      0s\n",
      "\n",
      "Solved in 3 iterations and 0.02 seconds (0.00 work units)\n",
      "Optimal objective  3.564471197e+02\n",
      "\n",
      "[Total time used: 0 minutes, 0 seconds]\n",
      "\n",
      "Objective value found: 356.44711968958313\n"
     ]
    }
   ],
   "source": [
    "start_time = time.time()\n",
    "\n",
    "model = model = gp.Model()\n",
    "\n",
    "# set output level to max\n",
    "model.Params.TuneOutput = 3\n",
    "\n",
    "# add variables for each ingredient\n",
    "I = model.addVars(df.index, vtype=GRB.CONTINUOUS, name='I')\n",
    "\n",
    "# add constraint on calories\n",
    "model.addConstr(gp.quicksum(I[ingredient] * df['Calories'][ingredient] for ingredient in df.index) >= 2000)\n",
    "\n",
    "# add constraint on fat\n",
    "model.addConstr(gp.quicksum(I[ingredient] * df['Fat'][ingredient] for ingredient in df.index) <= 70)\n",
    "\n",
    "# add constraint on cholesterol\n",
    "model.addConstr(gp.quicksum(I[ingredient] * df['Cholesterol'][ingredient] for ingredient in df.index) <= 750)\n",
    "\n",
    "# add constraint on sodium\n",
    "model.addConstr(gp.quicksum(I[ingredient] * df['Sodium'][ingredient] for ingredient in df.index) <= 3000)\n",
    "\n",
    "# add constraint on cholesterol:sodium ratio\n",
    "model.addConstr(gp.quicksum(I[ingredient] * df['Cholesterol'][ingredient] for ingredient in df.index) * 10 \n",
    "   <= gp.quicksum(I[ingredient] * df['Sodium'][ingredient] for ingredient in df.index))\n",
    "    \n",
    "# set objective\n",
    "model.setObjective(gp.quicksum(I[ingredient] * df['Sugar'][ingredient] for ingredient in df.index))\n",
    "\n",
    "model.optimize()\n",
    "\n",
    "end_time = time.time()\n",
    "\n",
    "diff = time.gmtime(end_time - start_time)\n",
    "print('\\n[Total time used: {} minutes, {} seconds]'.format(diff.tm_min, diff.tm_sec))\n",
    "\n",
    "try:\n",
    "    print(f'\\nObjective value found: {model.objVal}')\n",
    "except AttributeError as e:\n",
    "    print(f'\\nCould not find an objective value. \\nTraceback:\\n\\t{e}')"
   ]
  },
  {
   "cell_type": "markdown",
   "metadata": {},
   "source": [
    "Now that we have our objective, let's print out our solution values:"
   ]
  },
  {
   "cell_type": "code",
   "execution_count": 8,
   "metadata": {
    "scrolled": false
   },
   "outputs": [
    {
     "name": "stdout",
     "output_type": "stream",
     "text": [
      "0.0 units of A\n",
      "0.0 units of B\n",
      "1.1600835737737538 units of C\n",
      "3.5668092727091834 units of D\n",
      "2.1341160083573776 units of E\n"
     ]
    }
   ],
   "source": [
    "for ingredient in df.index:\n",
    "    print('{} units of {}'.format(\n",
    "        I[ingredient].x, ingredient\n",
    "    ))"
   ]
  },
  {
   "cell_type": "markdown",
   "metadata": {},
   "source": [
    "### Integer Program\n",
    "\n",
    "Say that we have the additional constraint that we can only use integer amounts of each ingredient. This means we need to use integer variables (`m.IntVar(...)`) rather than continuous ones (`m.NumVar(...)`):"
   ]
  },
  {
   "cell_type": "code",
   "execution_count": 9,
   "metadata": {},
   "outputs": [
    {
     "name": "stdout",
     "output_type": "stream",
     "text": [
      "Set parameter TuneOutput to value 3\n",
      "Gurobi Optimizer version 9.5.2 build v9.5.2rc0 (win64)\n",
      "Thread count: 4 physical cores, 8 logical processors, using up to 8 threads\n",
      "Optimize a model with 5 rows, 5 columns and 25 nonzeros\n",
      "Model fingerprint: 0x9f3dd579\n",
      "Variable types: 0 continuous, 5 integer (0 binary)\n",
      "Coefficient statistics:\n",
      "  Matrix range     [2e+00, 8e+02]\n",
      "  Objective range  [2e+01, 6e+01]\n",
      "  Bounds range     [0e+00, 0e+00]\n",
      "  RHS range        [7e+01, 3e+03]\n",
      "Presolve removed 1 rows and 0 columns\n",
      "Presolve time: 0.01s\n",
      "Presolved: 4 rows, 5 columns, 20 nonzeros\n",
      "Variable types: 0 continuous, 5 integer (0 binary)\n",
      "Found heuristic solution: objective 430.0000000\n",
      "\n",
      "Root relaxation: objective 3.564471e+02, 3 iterations, 0.00 seconds (0.00 work units)\n",
      "\n",
      "    Nodes    |    Current Node    |     Objective Bounds      |     Work\n",
      " Expl Unexpl |  Obj  Depth IntInf | Incumbent    BestBd   Gap | It/Node Time\n",
      "\n",
      "     0     0  356.44712    0    3  430.00000  356.44712  17.1%     -    0s\n",
      "     0     0  392.28571    0    3  430.00000  392.28571  8.77%     -    0s\n",
      "\n",
      "Cutting planes:\n",
      "  Gomory: 1\n",
      "  StrongCG: 2\n",
      "\n",
      "Explored 1 nodes (8 simplex iterations) in 0.04 seconds (0.00 work units)\n",
      "Thread count was 8 (of 8 available processors)\n",
      "\n",
      "Solution count 1: 430 \n",
      "\n",
      "Optimal solution found (tolerance 1.00e-04)\n",
      "Best objective 4.300000000000e+02, best bound 4.300000000000e+02, gap 0.0000%\n",
      "\n",
      "[Total time used: 0 minutes, 0 seconds]\n",
      "\n",
      "Objective value found: 430.0\n"
     ]
    }
   ],
   "source": [
    "start_time = time.time()\n",
    "\n",
    "model = model = gp.Model()\n",
    "\n",
    "# set output level to max\n",
    "model.Params.TuneOutput = 3\n",
    "\n",
    "# add variables for each ingredient\n",
    "I = model.addVars(df.index, vtype=GRB.INTEGER, name='I') # <-- change\n",
    "\n",
    "# add constraint on calories\n",
    "model.addConstr(gp.quicksum(I[ingredient] * df['Calories'][ingredient] for ingredient in df.index) >= 2000)\n",
    "\n",
    "# add constraint on fat\n",
    "model.addConstr(gp.quicksum(I[ingredient] * df['Fat'][ingredient] for ingredient in df.index) <= 70)\n",
    "\n",
    "# add constraint on cholesterol\n",
    "model.addConstr(gp.quicksum(I[ingredient] * df['Cholesterol'][ingredient] for ingredient in df.index) <= 750)\n",
    "\n",
    "# add constraint on sodium\n",
    "model.addConstr(gp.quicksum(I[ingredient] * df['Sodium'][ingredient] for ingredient in df.index) <= 3000)\n",
    "\n",
    "# add constraint on cholesterol:sodium ratio\n",
    "model.addConstr(gp.quicksum(I[ingredient] * df['Cholesterol'][ingredient] for ingredient in df.index) * 10 \n",
    "   <= gp.quicksum(I[ingredient] * df['Sodium'][ingredient] for ingredient in df.index))\n",
    "    \n",
    "# set objective\n",
    "model.setObjective(gp.quicksum(I[ingredient] * df['Sugar'][ingredient] for ingredient in df.index))\n",
    "\n",
    "model.optimize()\n",
    "\n",
    "end_time = time.time()\n",
    "\n",
    "diff = time.gmtime(end_time - start_time)\n",
    "print('\\n[Total time used: {} minutes, {} seconds]'.format(diff.tm_min, diff.tm_sec))\n",
    "\n",
    "try:\n",
    "    print(f'\\nObjective value found: {model.objVal}')\n",
    "except AttributeError as e:\n",
    "    print(f'\\nCould not find an objective value. \\nTraceback:\\n\\t{e}')"
   ]
  },
  {
   "cell_type": "markdown",
   "metadata": {},
   "source": [
    "And here are the solution values:"
   ]
  },
  {
   "cell_type": "code",
   "execution_count": 10,
   "metadata": {},
   "outputs": [
    {
     "name": "stdout",
     "output_type": "stream",
     "text": [
      "2.0 units of A\n",
      "-0.0 units of B\n",
      "1.0 units of C\n",
      "6.0 units of D\n",
      "-0.0 units of E\n"
     ]
    }
   ],
   "source": [
    "for ingredient in df.index:\n",
    "    print('{} units of {}'.format(\n",
    "        I[ingredient].x, ingredient\n",
    "    ))"
   ]
  },
  {
   "cell_type": "markdown",
   "metadata": {},
   "source": [
    "Note how adding the constraint that the amounts of each ingredient must be integer results in a higher (worse) objective value. In general, adding constraints to a problem will result in an equal or worse result than the previously obtained one."
   ]
  }
 ],
 "metadata": {
  "kernelspec": {
   "display_name": "Python 3",
   "language": "python",
   "name": "python3"
  },
  "language_info": {
   "codemirror_mode": {
    "name": "ipython",
    "version": 3
   },
   "file_extension": ".py",
   "mimetype": "text/x-python",
   "name": "python",
   "nbconvert_exporter": "python",
   "pygments_lexer": "ipython3",
   "version": "3.8.8"
  }
 },
 "nbformat": 4,
 "nbformat_minor": 2
}
