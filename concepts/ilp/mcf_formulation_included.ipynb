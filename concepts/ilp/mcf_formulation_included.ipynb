{
 "cells": [
  {
   "cell_type": "markdown",
   "id": "c5f3b04d",
   "metadata": {},
   "source": [
    "# Min Cost Flow ILP\n",
    "\n",
    "### Author: [Ben Rosenberg](https://benrosenberg.info)\n"
   ]
  },
  {
   "cell_type": "markdown",
   "id": "5e4c517b",
   "metadata": {},
   "source": [
    "### Imports\n",
    "\n",
    "We begin by importing some relevant libraries. `GurobiPy` we import to formulate and solve the ILP; `time`, we import to time the entire process of supplying the constraints solving the ILP."
   ]
  },
  {
   "cell_type": "code",
   "execution_count": 1,
   "id": "9cb94bc2",
   "metadata": {},
   "outputs": [],
   "source": [
    "import gurobipy as gp\n",
    "from gurobipy import GRB\n",
    "import time"
   ]
  },
  {
   "cell_type": "markdown",
   "id": "9278b3ee",
   "metadata": {},
   "source": [
    "### Input data\n",
    "\n",
    "Next, we define our input data. Recall that in the Min Cost Flow problem we have as an input a graph $G = (N, E)$, where $N$ is the set of nodes, each of which has supply $s(i)$ for all $i\\in N$, and $E$ is the set of edges, each of which has a cost $c(i,j)$ and capacity $u(i,j)$ for all $(i,j)\\in E$.\n",
    "\n",
    "The input data below corresponds to a small example graph, seen below, in which the numbers inside the nodes are their supply/demand values, and the first element of the tuple corresponding to each edge denotes the cost and the second denotes the capacity:\n",
    "\n",
    "![](mcf_graph.png)"
   ]
  },
  {
   "cell_type": "code",
   "execution_count": 2,
   "id": "90d62657",
   "metadata": {},
   "outputs": [],
   "source": [
    "nodes = range(4)\n",
    "\n",
    "edges = [(0,1), (0,3), (2,1), (2,3)]\n",
    "\n",
    "# cost[i,j] is the cost of sending one unit of flow along edge (i,j)\n",
    "cost = {\n",
    "    (0,1) : 0,\n",
    "    (0,3) : 4,\n",
    "    (2,1) : 2,\n",
    "    (2,3) : 8\n",
    "} \n",
    "\n",
    "# capacity[i,j] is the capacity of edge (i,j)\n",
    "capacity = {\n",
    "    (0,1) : 5,\n",
    "    (0,3) : 2,\n",
    "    (2,1) : 3,\n",
    "    (2,3) : 2\n",
    "}\n",
    "\n",
    "# supply[i] is the supply (if positive) or demand (if negative) of node i\n",
    "supply = [5, -6, 3, -2]"
   ]
  },
  {
   "cell_type": "markdown",
   "id": "14869c51",
   "metadata": {},
   "source": [
    "### Model Definition\n",
    "\n",
    "Now we define our model. The Min Cost Flow problem has the following constraints, using the variable $f(i,j)$ to denote the amount of flow on edge $(i,j)$:\n",
    "\n",
    " - Flow in is equal to flow out, adjusting for the offset of supply\n",
    " $$\\sum_{(i,j)\\in E} f(i,j) - \\sum_{(j,i)\\in E} f(j,i) = s(i) \\quad \\forall i\\in N$$\n",
    " - Flow on an edge can be no more than the capacity of that edge\n",
    " $$f(i,j) \\leq u(i,j) \\quad \\forall (i,j)\\in E$$\n",
    " - Flow on an edge can be no less than 0 units \n",
    " $$f(i,j) \\geq 0 \\quad \\forall (i,j) \\in E$$\n",
    " \n",
    "And the objective should be intuitive, as it's simply minimizing the cost of all flows on the edges:\n",
    "\n",
    "$$\\min \\sum_{(i,j)\\in E} c(i,j) \\cdot f(i,j)$$"
   ]
  },
  {
   "cell_type": "code",
   "execution_count": 3,
   "id": "a35e9fff",
   "metadata": {},
   "outputs": [
    {
     "name": "stdout",
     "output_type": "stream",
     "text": [
      "Set parameter Username\n",
      "Academic license - for non-commercial use only - expires 2023-10-13\n",
      "Set parameter TuneOutput to value 3\n",
      "Gurobi Optimizer version 9.5.2 build v9.5.2rc0 (win64)\n",
      "Thread count: 4 physical cores, 8 logical processors, using up to 8 threads\n",
      "Optimize a model with 12 rows, 16 columns and 16 nonzeros\n",
      "Model fingerprint: 0xaf2c58bd\n",
      "Coefficient statistics:\n",
      "  Matrix range     [1e+00, 1e+00]\n",
      "  Objective range  [2e+00, 8e+00]\n",
      "  Bounds range     [0e+00, 0e+00]\n",
      "  RHS range        [2e+00, 6e+00]\n",
      "Presolve removed 12 rows and 16 columns\n",
      "Presolve time: 0.00s\n",
      "Presolve: All rows and columns removed\n",
      "Iteration    Objective       Primal Inf.    Dual Inf.      Time\n",
      "       0    1.4000000e+01   0.000000e+00   0.000000e+00      0s\n",
      "\n",
      "Solved in 0 iterations and 0.01 seconds (0.00 work units)\n",
      "Optimal objective  1.400000000e+01\n",
      "\n",
      "[Total time used: 0 minutes, 0 seconds]\n",
      "\n",
      "Objective value found: 14.0\n"
     ]
    }
   ],
   "source": [
    "start_time = time.time()\n",
    "\n",
    "model = gp.Model()\n",
    "\n",
    "# set output level to max\n",
    "model.Params.TuneOutput = 3\n",
    "\n",
    "# add variable f\n",
    "f = model.addVars(nodes, nodes, vtype=GRB.CONTINUOUS, name='f')\n",
    "\n",
    "# add constraint representing supply/demand\n",
    "for i in nodes:\n",
    "    model.addConstr(gp.quicksum(f[i,j] for (x,j) in edges if x == i) -\n",
    "                    gp.quicksum(f[j,i] for (j,x) in edges if x == i)\n",
    "                   == supply[i])\n",
    "\n",
    "# add constraint on edge flows w.r.t. capacities\n",
    "for (i,j) in edges:\n",
    "    model.addConstr(f[i,j] <= capacity[i,j])\n",
    "\n",
    "# add constraint on edge flows w.r.t. 0\n",
    "for (i,j) in edges:\n",
    "    model.addConstr(f[i,j] >= 0)\n",
    "    \n",
    "# set objective\n",
    "model.setObjective(gp.quicksum(cost[i,j] * f[i,j] for (i,j) in edges), GRB.MINIMIZE)\n",
    "\n",
    "model.optimize()\n",
    "\n",
    "end_time = time.time()\n",
    "\n",
    "diff = time.gmtime(end_time - start_time)\n",
    "print('\\n[Total time used: {} minutes, {} seconds]'.format(diff.tm_min, diff.tm_sec))\n",
    "\n",
    "try:\n",
    "    print(f'\\nObjective value found: {model.objVal}')\n",
    "except AttributeError as e:\n",
    "    print(f'\\nCould not find an objective value. \\nTraceback:\\n\\t{e}')\n"
   ]
  },
  {
   "cell_type": "markdown",
   "id": "791d0618",
   "metadata": {},
   "source": [
    "So we have our optimal objective. The optimal solution associated with that, in terms of flows on edges, is given below:"
   ]
  },
  {
   "cell_type": "code",
   "execution_count": 4,
   "id": "034c2af9",
   "metadata": {},
   "outputs": [
    {
     "name": "stdout",
     "output_type": "stream",
     "text": [
      "f[0,1] = 3.0\n",
      "f[0,3] = 2.0\n",
      "f[2,1] = 3.0\n",
      "f[2,3] = 0.0\n"
     ]
    }
   ],
   "source": [
    "# optimal solution\n",
    "for (i,j) in edges:\n",
    "    print('f[{},{}] = {}'.format(\n",
    "        i, j, f[i,j].x\n",
    "    ))"
   ]
  }
 ],
 "metadata": {
  "kernelspec": {
   "display_name": "Python 3",
   "language": "python",
   "name": "python3"
  },
  "language_info": {
   "codemirror_mode": {
    "name": "ipython",
    "version": 3
   },
   "file_extension": ".py",
   "mimetype": "text/x-python",
   "name": "python",
   "nbconvert_exporter": "python",
   "pygments_lexer": "ipython3",
   "version": "3.8.8"
  },
  "vscode": {
   "interpreter": {
    "hash": "81214d30341541e2fce75d03e33736d15ab9271af8d797977123834fd695cd2f"
   }
  }
 },
 "nbformat": 4,
 "nbformat_minor": 5
}
