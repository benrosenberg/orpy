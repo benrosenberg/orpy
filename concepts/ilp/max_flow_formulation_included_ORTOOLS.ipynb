{
 "cells": [
  {
   "cell_type": "markdown",
   "metadata": {},
   "source": [
    "# Max Flow ILP\n",
    "\n",
    "### Author: [Ben Rosenberg](https://benrosenberg.info)"
   ]
  },
  {
   "cell_type": "markdown",
   "metadata": {},
   "source": [
    "### Imports\n",
    "\n",
    "We begin by importing some relevant libraries. We import `ortools` to formulate and solve the ILP, and we import `time` to time the entire process of supplying the constraints solving the ILP."
   ]
  },
  {
   "cell_type": "code",
   "execution_count": 1,
   "metadata": {},
   "outputs": [],
   "source": [
    "from ortools.linear_solver import pywraplp as OR\n",
    "import time"
   ]
  },
  {
   "cell_type": "markdown",
   "metadata": {},
   "source": [
    "### Input data\n",
    "\n",
    "Next, we define our input data. Recall that in the Max Flow problem we have as an input a graph $G = (N, E)$, where $N$ is the set of nodes, and $E$ is the set of edges, each of which has a capacity $u(i,j)$ for all $(i,j)\\in E$.\n",
    "\n",
    "The input data below corresponds to a small example graph, seen below, in which the numbers inside the nodes are arbitrary indices, and the number corresponding to each edge denotes the capacity of that edge:\n",
    "\n",
    "![](max_flow_graph.png)"
   ]
  },
  {
   "cell_type": "code",
   "execution_count": 4,
   "metadata": {},
   "outputs": [],
   "source": [
    "nodes = range(6)\n",
    "\n",
    "edges = [(0,1), (0,3), (1,2), (1,3), (2,3), (2,5), (3,4), (4,5)]\n",
    "\n",
    "# capacity[i,j] is the capacity of edge (i,j)\n",
    "capacity = {\n",
    "    (0,1) : 5, \n",
    "    (0,3) : 3, \n",
    "    (1,2) : 3, \n",
    "    (1,3) : 1, \n",
    "    (2,3) : 2, \n",
    "    (2,5) : 6, \n",
    "    (3,4) : 4, \n",
    "    (4,5) : 3\n",
    "}"
   ]
  },
  {
   "cell_type": "markdown",
   "metadata": {},
   "source": [
    "### Model Definition\n",
    "\n",
    "Now we define our model. The Max Flow problem has the following constraints, using the variable $f(i,j)$ to denote the amount of flow on edge $(i,j)$:\n",
    "\n",
    " - Flow in is equal to flow out\n",
    " $$\\sum_{(i,j)\\in E} f(i,j) - \\sum_{(j,i)\\in E} f(j,i) = 0 \\quad \\forall i\\in N$$\n",
    " - Flow on an edge can be no more than the capacity of that edge\n",
    " $$f(i,j) \\leq u(i,j) \\quad \\forall (i,j)\\in E$$\n",
    " - Flow on an edge can be no less than 0 units \n",
    " $$f(i,j) \\geq 0 \\quad \\forall (i,j) \\in E$$\n",
    " \n",
    "And the objective should be intuitive, as it's simply maximizing the total flow through the graph (which is equivalent to maximizing the flow into the sink node, $5$):\n",
    "\n",
    "$$\\max \\sum_{(i,5)\\in E} f(i,5)$$"
   ]
  },
  {
   "cell_type": "code",
   "execution_count": 20,
   "metadata": {},
   "outputs": [
    {
     "name": "stdout",
     "output_type": "stream",
     "text": [
      "\n",
      "[Total time used: 0 minutes, 0 seconds]\n",
      "Objective: 6.0\n"
     ]
    }
   ],
   "source": [
    "start_time = time.time()\n",
    "\n",
    "m = OR.Solver('Max Flow', OR.Solver.CBC_MIXED_INTEGER_PROGRAMMING)\n",
    "\n",
    "# add variable f\n",
    "f = {}\n",
    "for (i,j) in edges:\n",
    "    f[i,j] = m.NumVar(0, m.infinity(), 'f[{},{}]'.format(\n",
    "        i,j\n",
    "    ))\n",
    "\n",
    "# add constraint flow in/out for non-source/sink nodes\n",
    "for i in nodes:\n",
    "    if i not in (0,5):\n",
    "        m.Add(sum(f[i,j] for (x,j) in edges if x == i) -\n",
    "              sum(f[j,i] for (j,x) in edges if x == i)\n",
    "              == 0)\n",
    "\n",
    "# add constraint on edge flows w.r.t. capacities\n",
    "for (i,j) in edges:\n",
    "    m.Add(f[i,j] <= capacity[i,j])\n",
    "\n",
    "# add constraint on edge flows w.r.t. 0\n",
    "for (i,j) in edges:\n",
    "    m.Add(f[i,j] >= 0)\n",
    "    \n",
    "# set objective\n",
    "m.Maximize(sum(f[i,j] for (i,j) in edges if j == 5))\n",
    "\n",
    "m.Solve()\n",
    "\n",
    "end_time = time.time()\n",
    "\n",
    "diff = time.gmtime(end_time - start_time)\n",
    "print('\\n[Total time used: {} minutes, {} seconds]'.format(diff.tm_min, diff.tm_sec))\n",
    "\n",
    "print('Objective:', m.Objective().Value())"
   ]
  },
  {
   "cell_type": "markdown",
   "metadata": {},
   "source": [
    "So we have our optimal objective. The optimal solution associated with that, in terms of flows on edges, is given below:"
   ]
  },
  {
   "cell_type": "code",
   "execution_count": 11,
   "metadata": {},
   "outputs": [
    {
     "name": "stdout",
     "output_type": "stream",
     "text": [
      "f[0,1] = 3.0\n",
      "f[0,3] = 3.0\n",
      "f[1,2] = 3.0\n",
      "f[1,3] = 0.0\n",
      "f[2,3] = 0.0\n",
      "f[2,5] = 3.0\n",
      "f[3,4] = 3.0\n",
      "f[4,5] = 3.0\n"
     ]
    }
   ],
   "source": [
    "# optimal solution\n",
    "for (i,j) in edges:\n",
    "    print('f[{},{}] = {}'.format(\n",
    "        i, j, f[i,j].solution_value()\n",
    "    ))"
   ]
  }
 ],
 "metadata": {
  "kernelspec": {
   "display_name": "Python 3",
   "language": "python",
   "name": "python3"
  },
  "language_info": {
   "codemirror_mode": {
    "name": "ipython",
    "version": 3
   },
   "file_extension": ".py",
   "mimetype": "text/x-python",
   "name": "python",
   "nbconvert_exporter": "python",
   "pygments_lexer": "ipython3",
   "version": "3.7.3"
  }
 },
 "nbformat": 4,
 "nbformat_minor": 2
}
