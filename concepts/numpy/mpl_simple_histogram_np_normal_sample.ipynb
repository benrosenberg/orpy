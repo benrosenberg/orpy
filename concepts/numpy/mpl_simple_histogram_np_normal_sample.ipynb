{
 "cells": [
  {
   "cell_type": "markdown",
   "metadata": {},
   "source": [
    "## Simple Histogram/Sampling from normal distribution\n",
    "\n",
    "This is a really simple example of a histogram in MatPlotLib, using a random sample from a normal distribution with `np.random.normal`."
   ]
  },
  {
   "cell_type": "code",
   "execution_count": 2,
   "metadata": {},
   "outputs": [],
   "source": [
    "from matplotlib import pyplot as plt\n",
    "import numpy as np"
   ]
  },
  {
   "cell_type": "markdown",
   "metadata": {},
   "source": [
    "The function `np.random.normal` takes many arguments, but the most important ones are `loc`, `scale`, and `size`.\n",
    "\n",
    "Parameter | Function\n",
    "--------- | ------------------------------------------------------------------------------------------------------\n",
    "`loc`     | determines the mean ($\\mu$) of the normal distribution from which the sample is taken\n",
    "`scale`   | determines the standard deviation ($\\sigma$) of the normal distribution from which the sample is taken\n",
    "`size`    | the number of samples to draw"
   ]
  },
  {
   "cell_type": "code",
   "execution_count": 9,
   "metadata": {},
   "outputs": [],
   "source": [
    "N = 10_000\n",
    "data = np.random.normal(loc=250, scale=100, size=N)"
   ]
  },
  {
   "cell_type": "markdown",
   "metadata": {},
   "source": [
    "The `plt.hist()` function takes in one positional argument for data. \n",
    "\n",
    "An important keyword argument is the `bins` argument, which determines how many bins the histogram is split into."
   ]
  },
  {
   "cell_type": "code",
   "execution_count": 10,
   "metadata": {},
   "outputs": [
    {
     "data": {
      "text/plain": [
       "(array([3.000e+00, 6.000e+00, 1.000e+01, 1.400e+01, 4.300e+01, 8.600e+01,\n",
       "        1.400e+02, 1.840e+02, 3.080e+02, 4.310e+02, 5.380e+02, 7.320e+02,\n",
       "        8.320e+02, 9.880e+02, 1.005e+03, 9.630e+02, 9.370e+02, 7.970e+02,\n",
       "        6.440e+02, 4.580e+02, 3.380e+02, 2.180e+02, 1.560e+02, 8.700e+01,\n",
       "        4.500e+01, 2.300e+01, 8.000e+00, 3.000e+00, 2.000e+00, 1.000e+00]),\n",
       " array([-119.50866057,  -94.17151586,  -68.83437115,  -43.49722643,\n",
       "         -18.16008172,    7.17706299,   32.51420771,   57.85135242,\n",
       "          83.18849713,  108.52564185,  133.86278656,  159.19993128,\n",
       "         184.53707599,  209.8742207 ,  235.21136542,  260.54851013,\n",
       "         285.88565484,  311.22279956,  336.55994427,  361.89708898,\n",
       "         387.2342337 ,  412.57137841,  437.90852313,  463.24566784,\n",
       "         488.58281255,  513.91995727,  539.25710198,  564.59424669,\n",
       "         589.93139141,  615.26853612,  640.60568083]),\n",
       " <BarContainer object of 30 artists>)"
      ]
     },
     "execution_count": 10,
     "metadata": {},
     "output_type": "execute_result"
    },
    {
     "data": {
      "image/png": "[encoded data removed]",
      "text/plain": [
       "<Figure size 432x288 with 1 Axes>"
      ]
     },
     "metadata": {
      "needs_background": "light"
     },
     "output_type": "display_data"
    }
   ],
   "source": [
    "plt.hist(data, bins=30)"
   ]
  }
 ],
 "metadata": {
  "kernelspec": {
   "display_name": "Python 3",
   "language": "python",
   "name": "python3"
  },
  "language_info": {
   "codemirror_mode": {
    "name": "ipython",
    "version": 3
   },
   "file_extension": ".py",
   "mimetype": "text/x-python",
   "name": "python",
   "nbconvert_exporter": "python",
   "pygments_lexer": "ipython3",
   "version": "3.7.3"
  }
 },
 "nbformat": 4,
 "nbformat_minor": 2
}
